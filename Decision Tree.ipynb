{
 "cells": [
  {
   "cell_type": "code",
   "execution_count": 1,
   "metadata": {},
   "outputs": [
    {
     "data": {
      "text/html": [
       "<table>\n",
       "<thead><tr><th scope=col>Suhu</th><th scope=col>Waktu</th><th scope=col>Langit</th><th scope=col>Kelembapan</th><th scope=col>Oke</th></tr></thead>\n",
       "<tbody>\n",
       "\t<tr><td>2</td><td>2</td><td>2</td><td>2</td><td>0</td></tr>\n",
       "\t<tr><td>2</td><td>2</td><td>1</td><td>2</td><td>0</td></tr>\n",
       "\t<tr><td>2</td><td>1</td><td>4</td><td>2</td><td>0</td></tr>\n",
       "\t<tr><td>2</td><td>3</td><td>3</td><td>1</td><td>1</td></tr>\n",
       "\t<tr><td>2</td><td>4</td><td>2</td><td>3</td><td>0</td></tr>\n",
       "\t<tr><td>2</td><td>4</td><td>1</td><td>2</td><td>1</td></tr>\n",
       "</tbody>\n",
       "</table>\n"
      ],
      "text/latex": [
       "\\begin{tabular}{r|lllll}\n",
       " Suhu & Waktu & Langit & Kelembapan & Oke\\\\\n",
       "\\hline\n",
       "\t 2 & 2 & 2 & 2 & 0\\\\\n",
       "\t 2 & 2 & 1 & 2 & 0\\\\\n",
       "\t 2 & 1 & 4 & 2 & 0\\\\\n",
       "\t 2 & 3 & 3 & 1 & 1\\\\\n",
       "\t 2 & 4 & 2 & 3 & 0\\\\\n",
       "\t 2 & 4 & 1 & 2 & 1\\\\\n",
       "\\end{tabular}\n"
      ],
      "text/markdown": [
       "\n",
       "| Suhu | Waktu | Langit | Kelembapan | Oke |\n",
       "|---|---|---|---|---|\n",
       "| 2 | 2 | 2 | 2 | 0 |\n",
       "| 2 | 2 | 1 | 2 | 0 |\n",
       "| 2 | 1 | 4 | 2 | 0 |\n",
       "| 2 | 3 | 3 | 1 | 1 |\n",
       "| 2 | 4 | 2 | 3 | 0 |\n",
       "| 2 | 4 | 1 | 2 | 1 |\n",
       "\n"
      ],
      "text/plain": [
       "  Suhu Waktu Langit Kelembapan Oke\n",
       "1 2    2     2      2          0  \n",
       "2 2    2     1      2          0  \n",
       "3 2    1     4      2          0  \n",
       "4 2    3     3      1          1  \n",
       "5 2    4     2      3          0  \n",
       "6 2    4     1      2          1  "
      ]
     },
     "metadata": {},
     "output_type": "display_data"
    }
   ],
   "source": [
    "data_read <- read.csv(\"data_latih_opsi_1.csv\")\n",
    "head(data_read)"
   ]
  },
  {
   "cell_type": "code",
   "execution_count": 2,
   "metadata": {},
   "outputs": [
    {
     "data": {
      "text/html": [
       "<table>\n",
       "<thead><tr><th></th><th scope=col>Suhu</th><th scope=col>Waktu</th><th scope=col>Langit</th><th scope=col>Kelembapan</th><th scope=col>Oke</th></tr></thead>\n",
       "<tbody>\n",
       "\t<tr><th scope=row>49</th><td>1</td><td>1</td><td>1</td><td>3</td><td>1</td></tr>\n",
       "\t<tr><th scope=row>4</th><td>2</td><td>3</td><td>3</td><td>1</td><td>1</td></tr>\n",
       "\t<tr><th scope=row>28</th><td>1</td><td>1</td><td>3</td><td>2</td><td>1</td></tr>\n",
       "\t<tr><th scope=row>41</th><td>1</td><td>1</td><td>4</td><td>2</td><td>1</td></tr>\n",
       "\t<tr><th scope=row>15</th><td>2</td><td>1</td><td>1</td><td>2</td><td>0</td></tr>\n",
       "\t<tr><th scope=row>29</th><td>1</td><td>4</td><td>4</td><td>3</td><td>0</td></tr>\n",
       "</tbody>\n",
       "</table>\n"
      ],
      "text/latex": [
       "\\begin{tabular}{r|lllll}\n",
       "  & Suhu & Waktu & Langit & Kelembapan & Oke\\\\\n",
       "\\hline\n",
       "\t49 & 1 & 1 & 1 & 3 & 1\\\\\n",
       "\t4 & 2 & 3 & 3 & 1 & 1\\\\\n",
       "\t28 & 1 & 1 & 3 & 2 & 1\\\\\n",
       "\t41 & 1 & 1 & 4 & 2 & 1\\\\\n",
       "\t15 & 2 & 1 & 1 & 2 & 0\\\\\n",
       "\t29 & 1 & 4 & 4 & 3 & 0\\\\\n",
       "\\end{tabular}\n"
      ],
      "text/markdown": [
       "\n",
       "| <!--/--> | Suhu | Waktu | Langit | Kelembapan | Oke |\n",
       "|---|---|---|---|---|---|\n",
       "| 49 | 1 | 1 | 1 | 3 | 1 |\n",
       "| 4 | 2 | 3 | 3 | 1 | 1 |\n",
       "| 28 | 1 | 1 | 3 | 2 | 1 |\n",
       "| 41 | 1 | 1 | 4 | 2 | 1 |\n",
       "| 15 | 2 | 1 | 1 | 2 | 0 |\n",
       "| 29 | 1 | 4 | 4 | 3 | 0 |\n",
       "\n"
      ],
      "text/plain": [
       "   Suhu Waktu Langit Kelembapan Oke\n",
       "49 1    1     1      3          1  \n",
       "4  2    3     3      1          1  \n",
       "28 1    1     3      2          1  \n",
       "41 1    1     4      2          1  \n",
       "15 2    1     1      2          0  \n",
       "29 1    4     4      3          0  "
      ]
     },
     "metadata": {},
     "output_type": "display_data"
    },
    {
     "data": {
      "image/png": "[encoded data removed]",
      "text/plain": [
       "plot without title"
      ]
     },
     "metadata": {},
     "output_type": "display_data"
    }
   ],
   "source": [
    "plot(data_read)\n",
    "shuffle_index <- sample(1:nrow(data_read))\n",
    "data_read <- data_read[shuffle_index, ]\n",
    "head(data_read)"
   ]
  },
  {
   "cell_type": "code",
   "execution_count": 3,
   "metadata": {},
   "outputs": [],
   "source": [
    "library(rpart)"
   ]
  },
  {
   "cell_type": "code",
   "execution_count": 14,
   "metadata": {},
   "outputs": [
    {
     "data": {
      "text/html": [
       "<ol class=list-inline>\n",
       "\t<li>20</li>\n",
       "\t<li>5</li>\n",
       "</ol>\n"
      ],
      "text/latex": [
       "\\begin{enumerate*}\n",
       "\\item 20\n",
       "\\item 5\n",
       "\\end{enumerate*}\n"
      ],
      "text/markdown": [
       "1. 20\n",
       "2. 5\n",
       "\n",
       "\n"
      ],
      "text/plain": [
       "[1] 20  5"
      ]
     },
     "metadata": {},
     "output_type": "display_data"
    }
   ],
   "source": [
    "create_train_test <- function(data, size, train = TRUE) {\n",
    "    n_row = nrow(data)\n",
    "    total_row = size * n_row\n",
    "    train_sample <- 1: total_row\n",
    "    if (train == TRUE) {\n",
    "        return (data[train_sample, ])\n",
    "    } else {\n",
    "        return (data[-train_sample, ])\n",
    "    }\n",
    "}\n",
    "\n",
    "data_train <- create_train_test(data_read, 0.75, train = TRUE)\n",
    "data_test <- create_train_test(data_read, 0.75, train = FALSE)\n",
    "dim(data_test)"
   ]
  },
  {
   "cell_type": "code",
   "execution_count": 15,
   "metadata": {},
   "outputs": [
    {
     "name": "stdout",
     "output_type": "stream",
     "text": [
      "\n",
      "Classification tree:\n",
      "rpart(formula = Oke ~ ., data = data_train, method = \"class\")\n",
      "\n",
      "Variables actually used in tree construction:\n",
      "[1] Suhu  Waktu\n",
      "\n",
      "Root node error: 29/60 = 0.48333\n",
      "\n",
      "n= 60 \n",
      "\n",
      "       CP nsplit rel error  xerror    xstd\n",
      "1 0.34483      0   1.00000 1.41379 0.12425\n",
      "2 0.10345      1   0.65517 0.89655 0.13236\n",
      "3 0.01000      2   0.55172 0.79310 0.12986\n",
      "Call:\n",
      "rpart(formula = Oke ~ ., data = data_train, method = \"class\")\n",
      "  n= 60 \n",
      "\n",
      "         CP nsplit rel error    xerror      xstd\n",
      "1 0.3448276      0 1.0000000 1.4137931 0.1242496\n",
      "2 0.1034483      1 0.6551724 0.8965517 0.1323587\n",
      "3 0.0100000      2 0.5517241 0.7931034 0.1298647\n",
      "\n",
      "Variable importance\n",
      " Suhu Waktu \n",
      "   52    48 \n",
      "\n",
      "Node number 1: 60 observations,    complexity param=0.3448276\n",
      "  predicted class=0  expected loss=0.4833333  P(node) =1\n",
      "    class counts:    31    29\n",
      "   probabilities: 0.517 0.483 \n",
      "  left son=2 (26 obs) right son=3 (34 obs)\n",
      "  Primary splits:\n",
      "      Waktu      < 2.5 to the right, improve=4.2064860, (0 missing)\n",
      "      Suhu       < 1.5 to the right, improve=4.1341310, (0 missing)\n",
      "      Langit     < 3.5 to the right, improve=2.3757580, (0 missing)\n",
      "      Kelembapan < 2.5 to the right, improve=0.4166667, (0 missing)\n",
      "  Surrogate splits:\n",
      "      Suhu < 2.5 to the right, agree=0.583, adj=0.038, (0 split)\n",
      "\n",
      "Node number 2: 26 observations\n",
      "  predicted class=0  expected loss=0.2692308  P(node) =0.4333333\n",
      "    class counts:    19     7\n",
      "   probabilities: 0.731 0.269 \n",
      "\n",
      "Node number 3: 34 observations,    complexity param=0.1034483\n",
      "  predicted class=1  expected loss=0.3529412  P(node) =0.5666667\n",
      "    class counts:    12    22\n",
      "   probabilities: 0.353 0.647 \n",
      "  left son=6 (19 obs) right son=7 (15 obs)\n",
      "  Primary splits:\n",
      "      Suhu       < 1.5 to the right, improve=4.39958700, (0 missing)\n",
      "      Kelembapan < 1.5 to the left,  improve=1.20530100, (0 missing)\n",
      "      Langit     < 3.5 to the right, improve=1.00496700, (0 missing)\n",
      "      Waktu      < 1.5 to the right, improve=0.02941176, (0 missing)\n",
      "\n",
      "Node number 6: 19 observations\n",
      "  predicted class=0  expected loss=0.4210526  P(node) =0.3166667\n",
      "    class counts:    11     8\n",
      "   probabilities: 0.579 0.421 \n",
      "\n",
      "Node number 7: 15 observations\n",
      "  predicted class=1  expected loss=0.06666667  P(node) =0.25\n",
      "    class counts:     1    14\n",
      "   probabilities: 0.067 0.933 \n",
      "\n"
     ]
    },
    {
     "data": {
      "image/png": "[encoded data removed]",
      "text/plain": [
       "plot without title"
      ]
     },
     "metadata": {},
     "output_type": "display_data"
    }
   ],
   "source": [
    "fit <- rpart(Oke~. ,data = data_train, method = 'class')\n",
    "\n",
    "printcp(fit) # display the results\n",
    "plotcp(fit) # visualize cross-validation results\n",
    "summary(fit) # detailed summary of splits"
   ]
  },
  {
   "cell_type": "code",
   "execution_count": 16,
   "metadata": {
    "scrolled": true
   },
   "outputs": [
    {
     "data": {
      "text/plain": [
       "   predict_unseen\n",
       "    0 1\n",
       "  0 9 0\n",
       "  1 8 3"
      ]
     },
     "metadata": {},
     "output_type": "display_data"
    }
   ],
   "source": [
    "predict_unseen <-predict(fit, data_test, type = 'class')\n",
    "table_mat <- table(data_test$Oke, predict_unseen)\n",
    "table_mat"
   ]
  },
  {
   "cell_type": "code",
   "execution_count": 17,
   "metadata": {},
   "outputs": [
    {
     "name": "stdout",
     "output_type": "stream",
     "text": [
      "[1] \"Accuracy for test 0.6\"\n"
     ]
    }
   ],
   "source": [
    "accuracy_Test <- sum(diag(table_mat)) / sum(table_mat)\n",
    "print(paste('Accuracy for test', accuracy_Test))\n"
   ]
  },
  {
   "cell_type": "code",
   "execution_count": 18,
   "metadata": {},
   "outputs": [
    {
     "name": "stdout",
     "output_type": "stream",
     "text": [
      " 1  2  3  4  5  6  7  8  9 10 11 12 13 14 15 16 17 18 19 20 \n",
      " 0  1  0  0  0  0  0  1  0  0  0  0  1  0  0  0  0  0  0  0 \n",
      "Levels: 0 1\n"
     ]
    }
   ],
   "source": [
    "data_search <- read.csv(\"data_uji_opsi_1.csv\")\n",
    "predict_data <- predict(fit, data_search, type = 'class')\n",
    "print(predict_data)"
   ]
  },
  {
   "cell_type": "code",
   "execution_count": null,
   "metadata": {},
   "outputs": [],
   "source": []
  }
 ],
 "metadata": {
  "kernelspec": {
   "display_name": "R",
   "language": "R",
   "name": "ir"
  },
  "language_info": {
   "codemirror_mode": "r",
   "file_extension": ".r",
   "mimetype": "text/x-r-source",
   "name": "R",
   "pygments_lexer": "r",
   "version": "3.6.1"
  }
 },
 "nbformat": 4,
 "nbformat_minor": 2
}
